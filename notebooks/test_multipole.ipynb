{
 "cells": [
  {
   "cell_type": "code",
   "execution_count": 1,
   "metadata": {},
   "outputs": [],
   "source": [
    "%load_ext autoreload\n",
    "%autoreload 2\n",
    "#  base environment\n",
    "from notebook_setup import *\n",
    "\n",
    "import os\n",
    "import dotenv\n",
    "import numpy as np\n",
    "import functools\n",
    "\n",
    "# noise generation\n",
    "from noise import pnoise2, pnoise3\n",
    "from joblib import Parallel, delayed\n",
    "\n",
    "# visualization\n",
    "import matplotlib.pyplot as plt\n",
    "from matplotlib.animation import FuncAnimation\n",
    "from IPython.display import HTML\n",
    "from mpl_toolkits.mplot3d import Axes3D\n",
    "from matplotlib.cm import ScalarMappable\n",
    "from matplotlib.colors import Normalize\n",
    "\n",
    "from tqdm import tqdm\n",
    "\n",
    "# load environment variables\n",
    "_ = dotenv.load_dotenv(override=True)\n",
    "\n",
    "from training.networks.neuraloperator.multipole import MultiPoleScoreNet"
   ]
  },
  {
   "cell_type": "markdown",
   "metadata": {},
   "source": [
    "# Testing Denoising Operators\n",
    "\n",
    "Here, we test the components that build up our denoising diffusion operator. In particular, we test the following components:\n",
    "\n",
    "1. The noising Kernel that comes from a Gaussian random field.\n",
    "2. A denoising neural operator that is trained to revert the noising kernel for a specific variance.\n"
   ]
  },
  {
   "cell_type": "markdown",
   "metadata": {},
   "source": [
    "## A 1D Example\n",
    "\n",
    "Here, we consider a set of finite dimensional Harmonic functions."
   ]
  },
  {
   "cell_type": "code",
   "execution_count": 2,
   "metadata": {},
   "outputs": [
    {
     "ename": "NameError",
     "evalue": "name 'MultiPoleScoreNet' is not defined",
     "output_type": "error",
     "traceback": [
      "\u001b[0;31m---------------------------------------------------------------------------\u001b[0m",
      "\u001b[0;31mNameError\u001b[0m                                 Traceback (most recent call last)",
      "Cell \u001b[0;32mIn[2], line 1\u001b[0m\n\u001b[0;32m----> 1\u001b[0m multipoleGKN \u001b[38;5;241m=\u001b[39m \u001b[43mMultiPoleScoreNet\u001b[49m()\n",
      "\u001b[0;31mNameError\u001b[0m: name 'MultiPoleScoreNet' is not defined"
     ]
    }
   ],
   "source": [
    "multipoleGKN = MultiPoleScoreNet()"
   ]
  },
  {
   "cell_type": "code",
   "execution_count": null,
   "metadata": {},
   "outputs": [],
   "source": []
  }
 ],
 "metadata": {
  "kernelspec": {
   "display_name": "edm_fs",
   "language": "python",
   "name": "python3"
  },
  "language_info": {
   "codemirror_mode": {
    "name": "ipython",
    "version": 3
   },
   "file_extension": ".py",
   "mimetype": "text/x-python",
   "name": "python",
   "nbconvert_exporter": "python",
   "pygments_lexer": "ipython3",
   "version": "3.10.15"
  }
 },
 "nbformat": 4,
 "nbformat_minor": 2
}
